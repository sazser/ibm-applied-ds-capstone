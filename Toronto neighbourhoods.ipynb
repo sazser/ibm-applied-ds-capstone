{
 "cells": [
  {
   "cell_type": "markdown",
   "metadata": {},
   "source": [
    "# IBM Applied Data Science Capstone project"
   ]
  },
  {
   "cell_type": "code",
   "execution_count": 55,
   "metadata": {},
   "outputs": [],
   "source": [
    "import pandas as pd\n",
    "import numpy as np"
   ]
  },
  {
   "cell_type": "code",
   "execution_count": 23,
   "metadata": {},
   "outputs": [],
   "source": [
    "import requests\n",
    "import lxml\n",
    "from bs4 import BeautifulSoup"
   ]
  },
  {
   "cell_type": "code",
   "execution_count": 218,
   "metadata": {},
   "outputs": [],
   "source": [
    "from geopy.geocoders import Nominatim "
   ]
  },
  {
   "cell_type": "markdown",
   "metadata": {},
   "source": [
    "## Table of Contents\n",
    "\n",
    "<div class=\"alert alert-block alert-info\" style=\"margin-top: 20px\">\n",
    "\n",
    "<font size = 3>\n",
    "\n",
    "1. <a href=\"#item1\">Download and Explore Dataset</a>\n",
    "\n",
    "2. <a href=\"#item2\">Explore Neighborhoods in New York City</a>\n",
    "\n",
    "3. <a href=\"#item3\">Analyze Each Neighborhood</a>\n",
    "\n",
    "4. <a href=\"#item4\">Cluster Neighborhoods</a>\n",
    "\n",
    "5. <a href=\"#item5\">Examine Clusters</a>    \n",
    "</font>\n",
    "</div>"
   ]
  },
  {
   "cell_type": "markdown",
   "metadata": {},
   "source": [
    "# Part1. Create DataFrame with Postal Codes"
   ]
  },
  {
   "cell_type": "markdown",
   "metadata": {},
   "source": [
    "### Get data into data frame"
   ]
  },
  {
   "cell_type": "code",
   "execution_count": 13,
   "metadata": {},
   "outputs": [],
   "source": [
    "url = 'https://en.wikipedia.org/wiki/List_of_postal_codes_of_Canada:_M'\n",
    "page = requests.get(url)\n",
    "page_soup = BeautifulSoup(page.content, 'html.parser')     "
   ]
  },
  {
   "cell_type": "code",
   "execution_count": 17,
   "metadata": {},
   "outputs": [],
   "source": [
    "table_raw = page_soup.table"
   ]
  },
  {
   "cell_type": "code",
   "execution_count": 45,
   "metadata": {},
   "outputs": [],
   "source": [
    "tbl_header = []\n",
    "for l in table_raw.find_all('th'):\n",
    "    tbl_header.append(l.string.strip('\\n'))"
   ]
  },
  {
   "cell_type": "code",
   "execution_count": 46,
   "metadata": {},
   "outputs": [
    {
     "data": {
      "text/plain": [
       "['Postal code', 'Borough', 'Neighborhood']"
      ]
     },
     "execution_count": 46,
     "metadata": {},
     "output_type": "execute_result"
    }
   ],
   "source": [
    "tbl_header"
   ]
  },
  {
   "cell_type": "code",
   "execution_count": 50,
   "metadata": {},
   "outputs": [],
   "source": [
    "tbl_content = []\n",
    "for l in table_raw.find_all('td'):\n",
    "    tbl_content.append(l.string.strip('\\n'))"
   ]
  },
  {
   "cell_type": "code",
   "execution_count": 52,
   "metadata": {},
   "outputs": [
    {
     "data": {
      "text/plain": [
       "540"
      ]
     },
     "execution_count": 52,
     "metadata": {},
     "output_type": "execute_result"
    }
   ],
   "source": [
    "len(tbl_content)"
   ]
  },
  {
   "cell_type": "code",
   "execution_count": 60,
   "metadata": {},
   "outputs": [],
   "source": [
    "n_cols = len(tbl_header)\n",
    "tbl_content_split = [tbl_content[x:x+n_cols] for x in range(0, len(tbl_content), n_cols)]"
   ]
  },
  {
   "cell_type": "code",
   "execution_count": 64,
   "metadata": {},
   "outputs": [],
   "source": [
    "toronto_postal_codes_raw = pd.DataFrame(tbl_content_split, columns=tbl_header)"
   ]
  },
  {
   "cell_type": "markdown",
   "metadata": {},
   "source": [
    "### Cleanup data"
   ]
  },
  {
   "cell_type": "code",
   "execution_count": 194,
   "metadata": {},
   "outputs": [],
   "source": [
    "new_df = toronto_postal_codes_raw[toronto_postal_codes_raw['Borough'] != 'Not assigned']"
   ]
  },
  {
   "cell_type": "code",
   "execution_count": 195,
   "metadata": {},
   "outputs": [
    {
     "data": {
      "text/html": [
       "<div>\n",
       "<style scoped>\n",
       "    .dataframe tbody tr th:only-of-type {\n",
       "        vertical-align: middle;\n",
       "    }\n",
       "\n",
       "    .dataframe tbody tr th {\n",
       "        vertical-align: top;\n",
       "    }\n",
       "\n",
       "    .dataframe thead th {\n",
       "        text-align: right;\n",
       "    }\n",
       "</style>\n",
       "<table border=\"1\" class=\"dataframe\">\n",
       "  <thead>\n",
       "    <tr style=\"text-align: right;\">\n",
       "      <th></th>\n",
       "      <th>Postal code</th>\n",
       "      <th>Borough</th>\n",
       "      <th>Neighborhood</th>\n",
       "    </tr>\n",
       "  </thead>\n",
       "  <tbody>\n",
       "  </tbody>\n",
       "</table>\n",
       "</div>"
      ],
      "text/plain": [
       "Empty DataFrame\n",
       "Columns: [Postal code, Borough, Neighborhood]\n",
       "Index: []"
      ]
     },
     "execution_count": 195,
     "metadata": {},
     "output_type": "execute_result"
    }
   ],
   "source": [
    "# There are no duplicates unlike have been told in the exercise\n",
    "new_df[new_df.duplicated('Postal code')]"
   ]
  },
  {
   "cell_type": "code",
   "execution_count": 196,
   "metadata": {},
   "outputs": [
    {
     "data": {
      "text/html": [
       "<div>\n",
       "<style scoped>\n",
       "    .dataframe tbody tr th:only-of-type {\n",
       "        vertical-align: middle;\n",
       "    }\n",
       "\n",
       "    .dataframe tbody tr th {\n",
       "        vertical-align: top;\n",
       "    }\n",
       "\n",
       "    .dataframe thead th {\n",
       "        text-align: right;\n",
       "    }\n",
       "</style>\n",
       "<table border=\"1\" class=\"dataframe\">\n",
       "  <thead>\n",
       "    <tr style=\"text-align: right;\">\n",
       "      <th></th>\n",
       "      <th>Postal code</th>\n",
       "      <th>Borough</th>\n",
       "      <th>Neighborhood</th>\n",
       "    </tr>\n",
       "  </thead>\n",
       "  <tbody>\n",
       "  </tbody>\n",
       "</table>\n",
       "</div>"
      ],
      "text/plain": [
       "Empty DataFrame\n",
       "Columns: [Postal code, Borough, Neighborhood]\n",
       "Index: []"
      ]
     },
     "execution_count": 196,
     "metadata": {},
     "output_type": "execute_result"
    }
   ],
   "source": [
    "# There are no Neighborhood with 'Not assigned' or empty \n",
    "new_df[(new_df['Neighborhood'] == 'Not assigned') | (new_df['Neighborhood'] == '')]"
   ]
  },
  {
   "cell_type": "code",
   "execution_count": 197,
   "metadata": {},
   "outputs": [
    {
     "name": "stderr",
     "output_type": "stream",
     "text": [
      "/Users/sazs/soft/miniconda3/envs/coursera-ibm-ds-certificate/lib/python3.8/site-packages/pandas/core/generic.py:6746: SettingWithCopyWarning: \n",
      "A value is trying to be set on a copy of a slice from a DataFrame\n",
      "\n",
      "See the caveats in the documentation: https://pandas.pydata.org/pandas-docs/stable/user_guide/indexing.html#returning-a-view-versus-a-copy\n",
      "  self._update_inplace(new_data)\n"
     ]
    }
   ],
   "source": [
    "# Replace / in Neighborhood with ,\n",
    "new_df['Neighborhood'].replace(' /', ',', regex=True, inplace=True)"
   ]
  },
  {
   "cell_type": "code",
   "execution_count": 198,
   "metadata": {},
   "outputs": [],
   "source": [
    "toronto_postal_codes = new_df.reset_index(drop=True)"
   ]
  },
  {
   "cell_type": "code",
   "execution_count": 199,
   "metadata": {},
   "outputs": [],
   "source": [
    "toronto_postal_codes.rename(columns={'Postal code': 'Postal Code'}, inplace=True)"
   ]
  },
  {
   "cell_type": "code",
   "execution_count": 200,
   "metadata": {},
   "outputs": [
    {
     "data": {
      "text/html": [
       "<div>\n",
       "<style scoped>\n",
       "    .dataframe tbody tr th:only-of-type {\n",
       "        vertical-align: middle;\n",
       "    }\n",
       "\n",
       "    .dataframe tbody tr th {\n",
       "        vertical-align: top;\n",
       "    }\n",
       "\n",
       "    .dataframe thead th {\n",
       "        text-align: right;\n",
       "    }\n",
       "</style>\n",
       "<table border=\"1\" class=\"dataframe\">\n",
       "  <thead>\n",
       "    <tr style=\"text-align: right;\">\n",
       "      <th></th>\n",
       "      <th>Postal Code</th>\n",
       "      <th>Borough</th>\n",
       "      <th>Neighborhood</th>\n",
       "    </tr>\n",
       "  </thead>\n",
       "  <tbody>\n",
       "    <tr>\n",
       "      <th>0</th>\n",
       "      <td>M3A</td>\n",
       "      <td>North York</td>\n",
       "      <td>Parkwoods</td>\n",
       "    </tr>\n",
       "    <tr>\n",
       "      <th>1</th>\n",
       "      <td>M4A</td>\n",
       "      <td>North York</td>\n",
       "      <td>Victoria Village</td>\n",
       "    </tr>\n",
       "    <tr>\n",
       "      <th>2</th>\n",
       "      <td>M5A</td>\n",
       "      <td>Downtown Toronto</td>\n",
       "      <td>Regent Park, Harbourfront</td>\n",
       "    </tr>\n",
       "    <tr>\n",
       "      <th>3</th>\n",
       "      <td>M6A</td>\n",
       "      <td>North York</td>\n",
       "      <td>Lawrence Manor, Lawrence Heights</td>\n",
       "    </tr>\n",
       "    <tr>\n",
       "      <th>4</th>\n",
       "      <td>M7A</td>\n",
       "      <td>Downtown Toronto</td>\n",
       "      <td>Queen's Park, Ontario Provincial Government</td>\n",
       "    </tr>\n",
       "  </tbody>\n",
       "</table>\n",
       "</div>"
      ],
      "text/plain": [
       "  Postal Code           Borough                                 Neighborhood\n",
       "0         M3A        North York                                    Parkwoods\n",
       "1         M4A        North York                             Victoria Village\n",
       "2         M5A  Downtown Toronto                    Regent Park, Harbourfront\n",
       "3         M6A        North York             Lawrence Manor, Lawrence Heights\n",
       "4         M7A  Downtown Toronto  Queen's Park, Ontario Provincial Government"
      ]
     },
     "execution_count": 200,
     "metadata": {},
     "output_type": "execute_result"
    }
   ],
   "source": [
    "toronto_postal_codes.head()"
   ]
  },
  {
   "cell_type": "code",
   "execution_count": 201,
   "metadata": {},
   "outputs": [
    {
     "data": {
      "text/html": [
       "<div>\n",
       "<style scoped>\n",
       "    .dataframe tbody tr th:only-of-type {\n",
       "        vertical-align: middle;\n",
       "    }\n",
       "\n",
       "    .dataframe tbody tr th {\n",
       "        vertical-align: top;\n",
       "    }\n",
       "\n",
       "    .dataframe thead th {\n",
       "        text-align: right;\n",
       "    }\n",
       "</style>\n",
       "<table border=\"1\" class=\"dataframe\">\n",
       "  <thead>\n",
       "    <tr style=\"text-align: right;\">\n",
       "      <th></th>\n",
       "      <th>Postal Code</th>\n",
       "      <th>Borough</th>\n",
       "      <th>Neighborhood</th>\n",
       "    </tr>\n",
       "  </thead>\n",
       "  <tbody>\n",
       "    <tr>\n",
       "      <th>98</th>\n",
       "      <td>M8X</td>\n",
       "      <td>Etobicoke</td>\n",
       "      <td>The Kingsway, Montgomery Road , Old Mill North</td>\n",
       "    </tr>\n",
       "    <tr>\n",
       "      <th>99</th>\n",
       "      <td>M4Y</td>\n",
       "      <td>Downtown Toronto</td>\n",
       "      <td>Church and Wellesley</td>\n",
       "    </tr>\n",
       "    <tr>\n",
       "      <th>100</th>\n",
       "      <td>M7Y</td>\n",
       "      <td>East Toronto</td>\n",
       "      <td>Business reply mail Processing CentrE</td>\n",
       "    </tr>\n",
       "    <tr>\n",
       "      <th>101</th>\n",
       "      <td>M8Y</td>\n",
       "      <td>Etobicoke</td>\n",
       "      <td>Old Mill South, King's Mill Park, Sunnylea, Hu...</td>\n",
       "    </tr>\n",
       "    <tr>\n",
       "      <th>102</th>\n",
       "      <td>M8Z</td>\n",
       "      <td>Etobicoke</td>\n",
       "      <td>Mimico NW, The Queensway West, South of Bloor,...</td>\n",
       "    </tr>\n",
       "  </tbody>\n",
       "</table>\n",
       "</div>"
      ],
      "text/plain": [
       "    Postal Code           Borough  \\\n",
       "98          M8X         Etobicoke   \n",
       "99          M4Y  Downtown Toronto   \n",
       "100         M7Y      East Toronto   \n",
       "101         M8Y         Etobicoke   \n",
       "102         M8Z         Etobicoke   \n",
       "\n",
       "                                          Neighborhood  \n",
       "98      The Kingsway, Montgomery Road , Old Mill North  \n",
       "99                                Church and Wellesley  \n",
       "100              Business reply mail Processing CentrE  \n",
       "101  Old Mill South, King's Mill Park, Sunnylea, Hu...  \n",
       "102  Mimico NW, The Queensway West, South of Bloor,...  "
      ]
     },
     "execution_count": 201,
     "metadata": {},
     "output_type": "execute_result"
    }
   ],
   "source": [
    "toronto_postal_codes.tail()"
   ]
  },
  {
   "cell_type": "code",
   "execution_count": 202,
   "metadata": {},
   "outputs": [
    {
     "data": {
      "text/plain": [
       "(103, 3)"
      ]
     },
     "execution_count": 202,
     "metadata": {},
     "output_type": "execute_result"
    }
   ],
   "source": [
    "toronto_postal_codes.shape"
   ]
  },
  {
   "cell_type": "markdown",
   "metadata": {},
   "source": [
    "# Part2. Add Latitude and Longitude to Postal Codes"
   ]
  },
  {
   "cell_type": "code",
   "execution_count": 164,
   "metadata": {},
   "outputs": [],
   "source": [
    "import geocoder"
   ]
  },
  {
   "cell_type": "code",
   "execution_count": 181,
   "metadata": {},
   "outputs": [
    {
     "data": {
      "text/plain": [
       "<[REQUEST_DENIED] Google - Geocode [empty]>"
      ]
     },
     "execution_count": 181,
     "metadata": {},
     "output_type": "execute_result"
    }
   ],
   "source": [
    "geocoder.google('{}, Toronto, Ontario'.format('M8X'))"
   ]
  },
  {
   "cell_type": "code",
   "execution_count": 179,
   "metadata": {},
   "outputs": [
    {
     "name": "stdout",
     "output_type": "stream",
     "text": [
      "None\n"
     ]
    }
   ],
   "source": [
    "print(g.latlng)"
   ]
  },
  {
   "cell_type": "code",
   "execution_count": 177,
   "metadata": {},
   "outputs": [],
   "source": [
    "def get_location(postal_code):\n",
    "\n",
    "    # initialize your variable to None\n",
    "    lat_lng_coords = None\n",
    "\n",
    "    # loop until you get the coordinates\n",
    "    while(lat_lng_coords is None):\n",
    "      g = geocoder.google('{}, Toronto, Ontario'.format(postal_code))\n",
    "      lat_lng_coords = g.latlng\n",
    "\n",
    "    latitude = lat_lng_coords[0]\n",
    "    longitude = lat_lng_coords[1]\n",
    "    return latitude, longitude"
   ]
  },
  {
   "cell_type": "markdown",
   "metadata": {},
   "source": [
    "Ok, lets simply add csv with coordinates from Coursera"
   ]
  },
  {
   "cell_type": "code",
   "execution_count": 182,
   "metadata": {},
   "outputs": [],
   "source": [
    "url = 'https://cocl.us/Geospatial_data'"
   ]
  },
  {
   "cell_type": "code",
   "execution_count": 183,
   "metadata": {},
   "outputs": [],
   "source": [
    "df_lat_lon = pd.read_csv(url)"
   ]
  },
  {
   "cell_type": "code",
   "execution_count": 186,
   "metadata": {},
   "outputs": [
    {
     "data": {
      "text/html": [
       "<div>\n",
       "<style scoped>\n",
       "    .dataframe tbody tr th:only-of-type {\n",
       "        vertical-align: middle;\n",
       "    }\n",
       "\n",
       "    .dataframe tbody tr th {\n",
       "        vertical-align: top;\n",
       "    }\n",
       "\n",
       "    .dataframe thead th {\n",
       "        text-align: right;\n",
       "    }\n",
       "</style>\n",
       "<table border=\"1\" class=\"dataframe\">\n",
       "  <thead>\n",
       "    <tr style=\"text-align: right;\">\n",
       "      <th></th>\n",
       "      <th>Postal Code</th>\n",
       "      <th>Latitude</th>\n",
       "      <th>Longitude</th>\n",
       "    </tr>\n",
       "  </thead>\n",
       "  <tbody>\n",
       "    <tr>\n",
       "      <th>0</th>\n",
       "      <td>M1B</td>\n",
       "      <td>43.806686</td>\n",
       "      <td>-79.194353</td>\n",
       "    </tr>\n",
       "    <tr>\n",
       "      <th>1</th>\n",
       "      <td>M1C</td>\n",
       "      <td>43.784535</td>\n",
       "      <td>-79.160497</td>\n",
       "    </tr>\n",
       "    <tr>\n",
       "      <th>2</th>\n",
       "      <td>M1E</td>\n",
       "      <td>43.763573</td>\n",
       "      <td>-79.188711</td>\n",
       "    </tr>\n",
       "    <tr>\n",
       "      <th>3</th>\n",
       "      <td>M1G</td>\n",
       "      <td>43.770992</td>\n",
       "      <td>-79.216917</td>\n",
       "    </tr>\n",
       "    <tr>\n",
       "      <th>4</th>\n",
       "      <td>M1H</td>\n",
       "      <td>43.773136</td>\n",
       "      <td>-79.239476</td>\n",
       "    </tr>\n",
       "  </tbody>\n",
       "</table>\n",
       "</div>"
      ],
      "text/plain": [
       "  Postal Code   Latitude  Longitude\n",
       "0         M1B  43.806686 -79.194353\n",
       "1         M1C  43.784535 -79.160497\n",
       "2         M1E  43.763573 -79.188711\n",
       "3         M1G  43.770992 -79.216917\n",
       "4         M1H  43.773136 -79.239476"
      ]
     },
     "execution_count": 186,
     "metadata": {},
     "output_type": "execute_result"
    }
   ],
   "source": [
    "df_lat_lon.head()"
   ]
  },
  {
   "cell_type": "code",
   "execution_count": 187,
   "metadata": {},
   "outputs": [
    {
     "data": {
      "text/plain": [
       "(103, 3)"
      ]
     },
     "execution_count": 187,
     "metadata": {},
     "output_type": "execute_result"
    }
   ],
   "source": [
    "df_lat_lon.shape"
   ]
  },
  {
   "cell_type": "code",
   "execution_count": 203,
   "metadata": {},
   "outputs": [],
   "source": [
    "toronto_postal_codes_w_coords = pd.merge(\n",
    "    toronto_postal_codes,\n",
    "    df_lat_lon,\n",
    "    on='Postal Code')"
   ]
  },
  {
   "cell_type": "code",
   "execution_count": 204,
   "metadata": {},
   "outputs": [
    {
     "data": {
      "text/html": [
       "<div>\n",
       "<style scoped>\n",
       "    .dataframe tbody tr th:only-of-type {\n",
       "        vertical-align: middle;\n",
       "    }\n",
       "\n",
       "    .dataframe tbody tr th {\n",
       "        vertical-align: top;\n",
       "    }\n",
       "\n",
       "    .dataframe thead th {\n",
       "        text-align: right;\n",
       "    }\n",
       "</style>\n",
       "<table border=\"1\" class=\"dataframe\">\n",
       "  <thead>\n",
       "    <tr style=\"text-align: right;\">\n",
       "      <th></th>\n",
       "      <th>Postal Code</th>\n",
       "      <th>Borough</th>\n",
       "      <th>Neighborhood</th>\n",
       "      <th>Latitude</th>\n",
       "      <th>Longitude</th>\n",
       "    </tr>\n",
       "  </thead>\n",
       "  <tbody>\n",
       "    <tr>\n",
       "      <th>0</th>\n",
       "      <td>M3A</td>\n",
       "      <td>North York</td>\n",
       "      <td>Parkwoods</td>\n",
       "      <td>43.753259</td>\n",
       "      <td>-79.329656</td>\n",
       "    </tr>\n",
       "    <tr>\n",
       "      <th>1</th>\n",
       "      <td>M4A</td>\n",
       "      <td>North York</td>\n",
       "      <td>Victoria Village</td>\n",
       "      <td>43.725882</td>\n",
       "      <td>-79.315572</td>\n",
       "    </tr>\n",
       "    <tr>\n",
       "      <th>2</th>\n",
       "      <td>M5A</td>\n",
       "      <td>Downtown Toronto</td>\n",
       "      <td>Regent Park, Harbourfront</td>\n",
       "      <td>43.654260</td>\n",
       "      <td>-79.360636</td>\n",
       "    </tr>\n",
       "    <tr>\n",
       "      <th>3</th>\n",
       "      <td>M6A</td>\n",
       "      <td>North York</td>\n",
       "      <td>Lawrence Manor, Lawrence Heights</td>\n",
       "      <td>43.718518</td>\n",
       "      <td>-79.464763</td>\n",
       "    </tr>\n",
       "    <tr>\n",
       "      <th>4</th>\n",
       "      <td>M7A</td>\n",
       "      <td>Downtown Toronto</td>\n",
       "      <td>Queen's Park, Ontario Provincial Government</td>\n",
       "      <td>43.662301</td>\n",
       "      <td>-79.389494</td>\n",
       "    </tr>\n",
       "  </tbody>\n",
       "</table>\n",
       "</div>"
      ],
      "text/plain": [
       "  Postal Code           Borough                                 Neighborhood  \\\n",
       "0         M3A        North York                                    Parkwoods   \n",
       "1         M4A        North York                             Victoria Village   \n",
       "2         M5A  Downtown Toronto                    Regent Park, Harbourfront   \n",
       "3         M6A        North York             Lawrence Manor, Lawrence Heights   \n",
       "4         M7A  Downtown Toronto  Queen's Park, Ontario Provincial Government   \n",
       "\n",
       "    Latitude  Longitude  \n",
       "0  43.753259 -79.329656  \n",
       "1  43.725882 -79.315572  \n",
       "2  43.654260 -79.360636  \n",
       "3  43.718518 -79.464763  \n",
       "4  43.662301 -79.389494  "
      ]
     },
     "execution_count": 204,
     "metadata": {},
     "output_type": "execute_result"
    }
   ],
   "source": [
    "toronto_postal_codes_w_coords.head()"
   ]
  },
  {
   "cell_type": "markdown",
   "metadata": {},
   "source": [
    "# Part3. Explore neighborhoods"
   ]
  },
  {
   "cell_type": "code",
   "execution_count": 206,
   "metadata": {},
   "outputs": [],
   "source": [
    "import folium"
   ]
  },
  {
   "cell_type": "markdown",
   "metadata": {},
   "source": [
    "### Create map"
   ]
  },
  {
   "cell_type": "code",
   "execution_count": 209,
   "metadata": {},
   "outputs": [
    {
     "data": {
      "text/html": [
       "<div style=\"width:100%;\"><div style=\"position:relative;width:100%;height:0;padding-bottom:60%;\"><iframe src=\"about:blank\" style=\"position:absolute;width:100%;height:100%;left:0;top:0;border:none !important;\" data-html=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 onload=\"this.contentDocument.open();this.contentDocument.write(atob(this.getAttribute('data-html')));this.contentDocument.close();\" allowfullscreen webkitallowfullscreen mozallowfullscreen></iframe></div></div>"
      ],
      "text/plain": [
       "<folium.folium.Map at 0x11e308940>"
      ]
     },
     "execution_count": 209,
     "metadata": {},
     "output_type": "execute_result"
    }
   ],
   "source": [
    "latitude, longitude = 43.753259, -79.329656\n",
    "# create map of New York using latitude and longitude values\n",
    "map_toronto = folium.Map(location=[latitude, longitude], zoom_start=10)\n",
    "\n",
    "# add markers to map\n",
    "for lat, lng, borough, neighborhood in zip(\n",
    "    toronto_postal_codes_w_coords['Latitude'],\n",
    "    toronto_postal_codes_w_coords['Longitude'], \n",
    "    toronto_postal_codes_w_coords['Borough'], \n",
    "    toronto_postal_codes_w_coords['Neighborhood']):\n",
    "    label = '{}, {}'.format(neighborhood, borough)\n",
    "    label = folium.Popup(label, parse_html=True)\n",
    "    folium.CircleMarker(\n",
    "        [lat, lng],\n",
    "        radius=5,\n",
    "        popup=label,\n",
    "        color='blue',\n",
    "        fill=True,\n",
    "        fill_color='#3186cc',\n",
    "        fill_opacity=0.7,\n",
    "        parse_html=False).add_to(map_toronto)  \n",
    "    \n",
    "map_toronto"
   ]
  },
  {
   "cell_type": "markdown",
   "metadata": {},
   "source": [
    "As a virtual guy is planning to move to East York, lets explore and cluster East York area"
   ]
  },
  {
   "cell_type": "code",
   "execution_count": 214,
   "metadata": {},
   "outputs": [],
   "source": [
    "east_york = toronto_postal_codes_w_coords[toronto_postal_codes_w_coords['Borough'] == 'East York']\n",
    "east_york.reset_index(inplace=True, drop=True)"
   ]
  },
  {
   "cell_type": "code",
   "execution_count": 217,
   "metadata": {},
   "outputs": [
    {
     "data": {
      "text/html": [
       "<div>\n",
       "<style scoped>\n",
       "    .dataframe tbody tr th:only-of-type {\n",
       "        vertical-align: middle;\n",
       "    }\n",
       "\n",
       "    .dataframe tbody tr th {\n",
       "        vertical-align: top;\n",
       "    }\n",
       "\n",
       "    .dataframe thead th {\n",
       "        text-align: right;\n",
       "    }\n",
       "</style>\n",
       "<table border=\"1\" class=\"dataframe\">\n",
       "  <thead>\n",
       "    <tr style=\"text-align: right;\">\n",
       "      <th></th>\n",
       "      <th>Postal Code</th>\n",
       "      <th>Borough</th>\n",
       "      <th>Neighborhood</th>\n",
       "      <th>Latitude</th>\n",
       "      <th>Longitude</th>\n",
       "    </tr>\n",
       "  </thead>\n",
       "  <tbody>\n",
       "    <tr>\n",
       "      <th>0</th>\n",
       "      <td>M4B</td>\n",
       "      <td>East York</td>\n",
       "      <td>Parkview Hill, Woodbine Gardens</td>\n",
       "      <td>43.706397</td>\n",
       "      <td>-79.309937</td>\n",
       "    </tr>\n",
       "    <tr>\n",
       "      <th>1</th>\n",
       "      <td>M4C</td>\n",
       "      <td>East York</td>\n",
       "      <td>Woodbine Heights</td>\n",
       "      <td>43.695344</td>\n",
       "      <td>-79.318389</td>\n",
       "    </tr>\n",
       "    <tr>\n",
       "      <th>2</th>\n",
       "      <td>M4G</td>\n",
       "      <td>East York</td>\n",
       "      <td>Leaside</td>\n",
       "      <td>43.709060</td>\n",
       "      <td>-79.363452</td>\n",
       "    </tr>\n",
       "    <tr>\n",
       "      <th>3</th>\n",
       "      <td>M4H</td>\n",
       "      <td>East York</td>\n",
       "      <td>Thorncliffe Park</td>\n",
       "      <td>43.705369</td>\n",
       "      <td>-79.349372</td>\n",
       "    </tr>\n",
       "    <tr>\n",
       "      <th>4</th>\n",
       "      <td>M4J</td>\n",
       "      <td>East York</td>\n",
       "      <td>East Toronto</td>\n",
       "      <td>43.685347</td>\n",
       "      <td>-79.338106</td>\n",
       "    </tr>\n",
       "  </tbody>\n",
       "</table>\n",
       "</div>"
      ],
      "text/plain": [
       "  Postal Code    Borough                     Neighborhood   Latitude  \\\n",
       "0         M4B  East York  Parkview Hill, Woodbine Gardens  43.706397   \n",
       "1         M4C  East York                 Woodbine Heights  43.695344   \n",
       "2         M4G  East York                          Leaside  43.709060   \n",
       "3         M4H  East York                 Thorncliffe Park  43.705369   \n",
       "4         M4J  East York                     East Toronto  43.685347   \n",
       "\n",
       "   Longitude  \n",
       "0 -79.309937  \n",
       "1 -79.318389  \n",
       "2 -79.363452  \n",
       "3 -79.349372  \n",
       "4 -79.338106  "
      ]
     },
     "execution_count": 217,
     "metadata": {},
     "output_type": "execute_result"
    }
   ],
   "source": [
    "east_york.head()"
   ]
  },
  {
   "cell_type": "code",
   "execution_count": 220,
   "metadata": {},
   "outputs": [
    {
     "name": "stdout",
     "output_type": "stream",
     "text": [
      "The geograpical coordinate of East York, Toronto are 43.699971000000005, -79.33251996261595.\n"
     ]
    }
   ],
   "source": [
    "# Lets get Borough coordinates\n",
    "address = 'East York, Toronto'\n",
    "\n",
    "geolocator = Nominatim(user_agent=\"explorer\")\n",
    "location = geolocator.geocode(address)\n",
    "latitude = location.latitude\n",
    "longitude = location.longitude\n",
    "print('The geograpical coordinate of {} are {}, {}.'.format(address, latitude, longitude))"
   ]
  },
  {
   "cell_type": "code",
   "execution_count": 222,
   "metadata": {},
   "outputs": [
    {
     "data": {
      "text/html": [
       "<div style=\"width:100%;\"><div style=\"position:relative;width:100%;height:0;padding-bottom:60%;\"><iframe src=\"about:blank\" style=\"position:absolute;width:100%;height:100%;left:0;top:0;border:none !important;\" data-html=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 onload=\"this.contentDocument.open();this.contentDocument.write(atob(this.getAttribute('data-html')));this.contentDocument.close();\" allowfullscreen webkitallowfullscreen mozallowfullscreen></iframe></div></div>"
      ],
      "text/plain": [
       "<folium.folium.Map at 0x11e8f38b0>"
      ]
     },
     "execution_count": 222,
     "metadata": {},
     "output_type": "execute_result"
    }
   ],
   "source": [
    "# We visualize it\n",
    "# create map of Manhattan using latitude and longitude values\n",
    "map_borough = folium.Map(location=[latitude, longitude], zoom_start=11)\n",
    "\n",
    "# add markers to map\n",
    "for lat, lng, label in zip(\n",
    "    east_york['Latitude'], \n",
    "    east_york['Longitude'], \n",
    "    east_york['Neighborhood']):\n",
    "    label = folium.Popup(label, parse_html=True)\n",
    "    folium.CircleMarker(\n",
    "        [lat, lng],\n",
    "        radius=5,\n",
    "        popup=label,\n",
    "        color='blue',\n",
    "        fill=True,\n",
    "        fill_color='#3186cc',\n",
    "        fill_opacity=0.7,\n",
    "        parse_html=False).add_to(map_borough)  \n",
    "    \n",
    "map_borough"
   ]
  },
  {
   "cell_type": "markdown",
   "metadata": {},
   "source": [
    "# Part3. Clustering"
   ]
  },
  {
   "cell_type": "code",
   "execution_count": null,
   "metadata": {},
   "outputs": [],
   "source": []
  }
 ],
 "metadata": {
  "kernelspec": {
   "display_name": "Python 3",
   "language": "python",
   "name": "python3"
  },
  "language_info": {
   "codemirror_mode": {
    "name": "ipython",
    "version": 3
   },
   "file_extension": ".py",
   "mimetype": "text/x-python",
   "name": "python",
   "nbconvert_exporter": "python",
   "pygments_lexer": "ipython3",
   "version": "3.8.2"
  }
 },
 "nbformat": 4,
 "nbformat_minor": 1
}
